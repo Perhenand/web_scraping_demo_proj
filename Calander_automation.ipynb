{
 "cells": [
  {
   "cell_type": "markdown",
   "id": "0756cfad",
   "metadata": {},
   "source": [
    "# Web scraping"
   ]
  },
  {
   "cell_type": "code",
   "execution_count": 145,
   "id": "b1eac07d",
   "metadata": {},
   "outputs": [
    {
     "name": "stdout",
     "output_type": "stream",
     "text": [
      "Collecting google-api-python-client\n",
      "  Downloading google_api_python_client-2.45.0-py2.py3-none-any.whl (8.4 MB)\n",
      "Collecting google-auth-httplib2\n",
      "  Downloading google_auth_httplib2-0.1.0-py2.py3-none-any.whl (9.3 kB)\n",
      "Collecting google-auth-oauthlib\n",
      "  Downloading google_auth_oauthlib-0.5.1-py2.py3-none-any.whl (19 kB)\n",
      "Collecting uritemplate<5,>=3.0.1\n",
      "  Downloading uritemplate-4.1.1-py2.py3-none-any.whl (10 kB)\n",
      "Collecting google-auth<3.0.0dev,>=1.16.0\n",
      "  Downloading google_auth-2.6.6-py2.py3-none-any.whl (156 kB)\n",
      "Collecting google-api-core!=2.0.*,!=2.1.*,!=2.2.*,!=2.3.0,<3.0.0dev,>=1.31.5\n",
      "  Downloading google_api_core-2.7.2-py3-none-any.whl (114 kB)\n",
      "Collecting httplib2<1dev,>=0.15.0\n",
      "  Downloading httplib2-0.20.4-py3-none-any.whl (96 kB)\n",
      "Requirement already satisfied: six in c:\\users\\ander\\anaconda3\\lib\\site-packages (from google-auth-httplib2) (1.16.0)\n",
      "Collecting requests-oauthlib>=0.7.0\n",
      "  Downloading requests_oauthlib-1.3.1-py2.py3-none-any.whl (23 kB)\n",
      "Requirement already satisfied: requests<3.0.0dev,>=2.18.0 in c:\\users\\ander\\anaconda3\\lib\\site-packages (from google-api-core!=2.0.*,!=2.1.*,!=2.2.*,!=2.3.0,<3.0.0dev,>=1.31.5->google-api-python-client) (2.26.0)\n",
      "Collecting protobuf>=3.12.0\n",
      "  Downloading protobuf-3.20.1-cp39-cp39-win_amd64.whl (904 kB)\n",
      "Collecting googleapis-common-protos<2.0dev,>=1.52.0\n",
      "  Downloading googleapis_common_protos-1.56.0-py2.py3-none-any.whl (241 kB)\n",
      "Collecting rsa<5,>=3.1.4\n",
      "  Downloading rsa-4.8-py3-none-any.whl (39 kB)\n",
      "Collecting pyasn1-modules>=0.2.1\n",
      "  Downloading pyasn1_modules-0.2.8-py2.py3-none-any.whl (155 kB)\n",
      "Collecting cachetools<6.0,>=2.0.0\n",
      "  Downloading cachetools-5.0.0-py3-none-any.whl (9.1 kB)\n",
      "Requirement already satisfied: pyparsing!=3.0.0,!=3.0.1,!=3.0.2,!=3.0.3,<4,>=2.4.2 in c:\\users\\ander\\anaconda3\\lib\\site-packages (from httplib2<1dev,>=0.15.0->google-api-python-client) (3.0.4)\n",
      "Collecting pyasn1<0.5.0,>=0.4.6\n",
      "  Downloading pyasn1-0.4.8-py2.py3-none-any.whl (77 kB)\n",
      "Requirement already satisfied: charset-normalizer~=2.0.0 in c:\\users\\ander\\anaconda3\\lib\\site-packages (from requests<3.0.0dev,>=2.18.0->google-api-core!=2.0.*,!=2.1.*,!=2.2.*,!=2.3.0,<3.0.0dev,>=1.31.5->google-api-python-client) (2.0.4)\n",
      "Requirement already satisfied: certifi>=2017.4.17 in c:\\users\\ander\\anaconda3\\lib\\site-packages (from requests<3.0.0dev,>=2.18.0->google-api-core!=2.0.*,!=2.1.*,!=2.2.*,!=2.3.0,<3.0.0dev,>=1.31.5->google-api-python-client) (2021.10.8)\n",
      "Requirement already satisfied: idna<4,>=2.5 in c:\\users\\ander\\anaconda3\\lib\\site-packages (from requests<3.0.0dev,>=2.18.0->google-api-core!=2.0.*,!=2.1.*,!=2.2.*,!=2.3.0,<3.0.0dev,>=1.31.5->google-api-python-client) (3.2)\n",
      "Requirement already satisfied: urllib3<1.27,>=1.21.1 in c:\\users\\ander\\anaconda3\\lib\\site-packages (from requests<3.0.0dev,>=2.18.0->google-api-core!=2.0.*,!=2.1.*,!=2.2.*,!=2.3.0,<3.0.0dev,>=1.31.5->google-api-python-client) (1.26.7)\n",
      "Collecting oauthlib>=3.0.0\n",
      "  Downloading oauthlib-3.2.0-py3-none-any.whl (151 kB)\n",
      "Installing collected packages: pyasn1, rsa, pyasn1-modules, protobuf, cachetools, oauthlib, httplib2, googleapis-common-protos, google-auth, uritemplate, requests-oauthlib, google-auth-httplib2, google-api-core, google-auth-oauthlib, google-api-python-client\n",
      "Successfully installed cachetools-5.0.0 google-api-core-2.7.2 google-api-python-client-2.45.0 google-auth-2.6.6 google-auth-httplib2-0.1.0 google-auth-oauthlib-0.5.1 googleapis-common-protos-1.56.0 httplib2-0.20.4 oauthlib-3.2.0 protobuf-3.20.1 pyasn1-0.4.8 pyasn1-modules-0.2.8 requests-oauthlib-1.3.1 rsa-4.8 uritemplate-4.1.1\n"
     ]
    }
   ],
   "source": [
    "!pip install --upgrade google-api-python-client google-auth-httplib2 google-auth-oauthlib"
   ]
  },
  {
   "cell_type": "code",
   "execution_count": 2,
   "id": "94ae4657",
   "metadata": {},
   "outputs": [],
   "source": [
    "def anvndata():\n",
    "    \"\"\"Ask for user preferences\"\"\"\n",
    "    uppk = input(\"\\nDo you want to update [U] or clear [C] calender? \").lower().startswith(\"u\") \n",
    "    \n",
    "    if uppk:\n",
    "        se_aktiv = input(\"\\nDo you want to be reminded of solar eclipses? Enter Yes or No: \").lower().startswith(\"y\")\n",
    "        fm_aktiv = input(\"\\nDo you want to be reminded of upcoming full moons? Enter Yes or No: \").lower().startswith(\"y\")\n",
    "        nl_aktiv = input(\"\\nDo you want to be reminded of dates with northern light? Enter Yes or No: \").lower().startswith(\"y\")\n",
    "        \n",
    "        rem_prio = \"\"\n",
    "        while (se_aktiv or fm_aktiv or nl_aktiv) and (not rem_prio):\n",
    "            rem_prio = input(\"\\nHow many hours before an upcoming event should I be reminded: \")\n",
    "            rem_prio = int(rem_prio) if rem_prio.isnumeric() else \"\"\n",
    "        return (True,se_aktiv,fm_aktiv,nl_aktiv,rem_prio)\n",
    "    else:\n",
    "        return (False,False,False,False,0)"
   ]
  },
  {
   "cell_type": "code",
   "execution_count": 3,
   "id": "287c7566",
   "metadata": {},
   "outputs": [],
   "source": [
    "def getnorthlgt():\n",
    "    return []"
   ]
  },
  {
   "cell_type": "code",
   "execution_count": 4,
   "id": "2fedf02d",
   "metadata": {},
   "outputs": [],
   "source": [
    "def getsoleclip(idstr):\n",
    "    ut=[]\n",
    "    pattern = r\"[\\d-]+\"\n",
    "    url = \"https://www.astroinfo.se/formorkelser/solformorkelser/\"\n",
    "    mc = \"div.entry.themeform>p\"\n",
    "    soup = BeautifulSoup(requests.get(url).content)\n",
    "    \n",
    "    for i in soup.select(mc):\n",
    "        tmp = i.select(\"a\")[0]\n",
    "        date = re.findall(pattern, tmp.text)[0]\n",
    "        tist = datetime.datetime.strptime(date + \" 08:00\", '%Y-%m-%d %H:%M')\n",
    "        tien = datetime.datetime.strptime(date + \" 12:00\", '%Y-%m-%d %H:%M')\n",
    "        desc = re.sub(pattern,\"\", tmp.text).strip()\n",
    "        ref = tmp[\"href\"]\n",
    "        ut.append((tist,tien,desc,desc,ref))\n",
    "    return ut"
   ]
  },
  {
   "cell_type": "code",
   "execution_count": 5,
   "id": "34c6473d",
   "metadata": {},
   "outputs": [],
   "source": [
    "def getfullmoon(idstr):\n",
    "    ut=[]\n",
    "    pattern = r\"[\\d-]+\"\n",
    "    manad = [(\"januari\",\"1\"),(\"februari\",\"2\"),(\"mars\",\"3\"),(\"april\",\"4\"),(\"maj\",\"5\"),(\"juni\",\"6\"),(\"juli\",\"7\"),\n",
    "             (\"augusti\",\"8\"),(\"september\",\"9\"),(\"oktober\",\"10\"),(\"november\",\"11\"),(\"december\",\"12\")]\n",
    "    url = \"https://www.kalender-365.se/manen/manens-lagen.html\"\n",
    "    mc = \"div.full_moon_phases_div.left_moon_phases\"\n",
    "    y = datetime.datetime.now().year\n",
    "    soup = BeautifulSoup(requests.get(url).content)\n",
    "    \n",
    "    for i in soup.select(mc):\n",
    "        if str(y) in i.select(\"h2\")[0].text:\n",
    "            for j in i.select(\"tbody>tr\"):\n",
    "                desc = j.select(\"td:nth-child(1)\")[0].text\n",
    "                date = j.select(\"td:nth-child(2)\")[0].text\n",
    "                for svm, nrm in manad:\n",
    "                    if svm in date:\n",
    "                        date = date.replace(svm,nrm)\n",
    "                tist = datetime.datetime.strptime(date + \" \" + j.select(\"td:nth-child(3)\")[0].text, '%d %m %Y %H:%M:%S')\n",
    "                tien = tist + datetime.timedelta(hours=1)\n",
    "                if \"Fullmåne\" in desc:\n",
    "                    ut.append((tist,tien,desc,desc,\"\"))\n",
    "    return ut"
   ]
  },
  {
   "cell_type": "code",
   "execution_count": 6,
   "id": "1c3b912c",
   "metadata": {},
   "outputs": [],
   "source": [
    "from __future__ import print_function\n",
    "\n",
    "import datetime\n",
    "import os.path\n",
    "\n",
    "from google.auth.transport.requests import Request\n",
    "from google.oauth2.credentials import Credentials\n",
    "from google_auth_oauthlib.flow import InstalledAppFlow\n",
    "from googleapiclient.discovery import build\n",
    "from googleapiclient.errors import HttpError\n",
    "\n",
    "# If modifying these scopes, delete the file token.json.\n",
    "#SCOPES = ['https://www.googleapis.com/auth/calendar.readonly']\n",
    "SCOPES = ['https://www.googleapis.com/auth/calendar']\n",
    "\n",
    "\n",
    "def get_calendar_service():\n",
    "    creds = None\n",
    "    \n",
    "    if os.path.exists('token.json'):\n",
    "        creds = Credentials.from_authorized_user_file('token.json', SCOPES)\n",
    "    if not creds or not creds.valid:\n",
    "        if creds and creds.expired and creds.refresh_token:\n",
    "            creds.refresh(Request())\n",
    "        else:\n",
    "            flow = InstalledAppFlow.from_client_secrets_file(\n",
    "                'credentials.json', SCOPES)\n",
    "            creds = flow.run_local_server(port=0)\n",
    "        with open('token.json', 'w') as token:\n",
    "            token.write(creds.to_json())\n",
    "    \n",
    "    service = build('calendar', 'v3', credentials=creds)\n",
    "    return service"
   ]
  },
  {
   "cell_type": "code",
   "execution_count": 7,
   "id": "47aebe3f",
   "metadata": {},
   "outputs": [],
   "source": [
    "def egenkalbort(idstr):\n",
    "    service = get_calendar_service()  \n",
    "    now = datetime.datetime.utcnow().isoformat() + 'Z'  # 'Z' indicates UTC time\n",
    "    events_result = service.events().list(calendarId=\"primary\", timeMin=now, singleEvents=True,\n",
    "                                          orderBy=\"startTime\").execute()\n",
    "    events = events_result.get('items', [])\n",
    "\n",
    "    for event in events:\n",
    "        start = event['start'].get('dateTime', event['start'].get('date'))\n",
    "         #if \"summary\" in event:\n",
    "        if idstr in event[\"summary\"]:\n",
    "            try:\n",
    "                service.events().delete(calendarId='primary',eventId=event[\"id\"]).execute()\n",
    "            except:\n",
    "                print(\"Failed to delete event\")"
   ]
  },
  {
   "cell_type": "code",
   "execution_count": 8,
   "id": "814a37fa",
   "metadata": {},
   "outputs": [],
   "source": [
    "def egenklany(poster,forv,idstr):\n",
    "    service = get_calendar_service() \n",
    "    \n",
    "    for tst, tend, title, des, link in poster:\n",
    "        if tst > datetime.datetime.now():\n",
    "            lank = f\"\\n <a href='{link}'>Länk</a>\" if link else \"\"\n",
    "            event_result = service.events().insert(calendarId='primary',body={\n",
    "                \"summary\": title + \"      id=\" + idstr,\n",
    "                \"description\": des + lank,\n",
    "                \"start\": {\"dateTime\": tst.isoformat(), \"timeZone\": \"Europe/Stockholm\"},\n",
    "                \"end\": {\"dateTime\": tend.isoformat(), \"timeZone\": \"Europe/Stockholm\"},\n",
    "                \"colorId\": 3,\n",
    "                \"reminders\":{\"overrides\":[{\"minutes\":forv*60,\"method\":\"popup\"}],\"useDefault\":False}}\n",
    "                                              ).execute()"
   ]
  },
  {
   "cell_type": "code",
   "execution_count": 11,
   "id": "8494d216",
   "metadata": {},
   "outputs": [
    {
     "name": "stdout",
     "output_type": "stream",
     "text": [
      "\n",
      "Do you want to update [U] or clear [C] calender? u\n",
      "\n",
      "Do you want to be reminded of solar eclipses? Enter Yes or No: y\n",
      "\n",
      "Do you want to be reminded of upcoming full moons? Enter Yes or No: y\n",
      "\n",
      "Do you want to be reminded of dates with northern light? Enter Yes or No: n\n",
      "\n",
      "How many hours before an upcoming event should I be reminded: 24\n"
     ]
    }
   ],
   "source": [
    "import re\n",
    "import datetime\n",
    "import requests\n",
    "import pandas as pd\n",
    "from bs4 import BeautifulSoup\n",
    "\n",
    "idstr = \"AUT123aaB7\"\n",
    "uppk,se_aktiv,fm_aktiv,nl_aktiv,rem_prio = anvndata()\n",
    "\n",
    "if uppk:\n",
    "    poster = []\n",
    "    kh1 = getsoleclip(idstr) if se_aktiv else []\n",
    "    kh2 = getfullmoon(idstr) if fm_aktiv else []\n",
    "    kh3 = getnorthlgt(idstr) if nl_aktiv else []\n",
    "    poster = kh1 + kh2 + kh3\n",
    "    \n",
    "    egenkalbort(idstr)\n",
    "    egenklany(poster,rem_prio,idstr)\n",
    "else:\n",
    "    pass\n",
    "    egenkalbort(idstr)"
   ]
  },
  {
   "cell_type": "code",
   "execution_count": null,
   "id": "c14e5be7",
   "metadata": {},
   "outputs": [],
   "source": []
  },
  {
   "cell_type": "code",
   "execution_count": null,
   "id": "43dd12aa",
   "metadata": {},
   "outputs": [],
   "source": []
  }
 ],
 "metadata": {
  "kernelspec": {
   "display_name": "Python 3 (ipykernel)",
   "language": "python",
   "name": "python3"
  },
  "language_info": {
   "codemirror_mode": {
    "name": "ipython",
    "version": 3
   },
   "file_extension": ".py",
   "mimetype": "text/x-python",
   "name": "python",
   "nbconvert_exporter": "python",
   "pygments_lexer": "ipython3",
   "version": "3.9.7"
  }
 },
 "nbformat": 4,
 "nbformat_minor": 5
}
